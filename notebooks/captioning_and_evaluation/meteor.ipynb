{
 "cells": [
  {
   "cell_type": "code",
   "execution_count": 87,
   "id": "fc2c1daf",
   "metadata": {},
   "outputs": [
    {
     "name": "stderr",
     "output_type": "stream",
     "text": [
      "[nltk_data] Downloading package punkt to /Users/evelsve/nltk_data...\n",
      "[nltk_data]   Package punkt is already up-to-date!\n"
     ]
    }
   ],
   "source": [
    "import pymeteor.pymeteor as pymeteor\n",
    "from os import listdir\n",
    "from tqdm import tqdm\n",
    "import nltk\n",
    "import json\n",
    "nltk.download('punkt')\n",
    "from nltk.tokenize import word_tokenize"
   ]
  },
  {
   "cell_type": "code",
   "execution_count": 73,
   "id": "88df0153",
   "metadata": {},
   "outputs": [],
   "source": [
    "main_path = '/Users/evelsve/repos/cap'\n",
    "og_dataset = 'celeb_small_res'\n",
    "cap_path = f'{main_path}/data/{og_dataset}/captions'\n",
    "pred_path = f'{main_path}/predictions/'"
   ]
  },
  {
   "cell_type": "code",
   "execution_count": 74,
   "id": "fc74e7cc",
   "metadata": {},
   "outputs": [],
   "source": [
    "def get_og_captions(cap_path):\n",
    "    og_dictn = dict()\n",
    "    for f_name in tqdm(listdir(cap_path)):\n",
    "        img_id = f_name.strip('.txt')\n",
    "        if 9000 <= int(img_id) <= 9999:\n",
    "            with open(f'{cap_path}/{f_name}', mode='r') as f:\n",
    "                lines = f.readlines()\n",
    "                og_dictn[img_id] = list()\n",
    "                for caption in lines:\n",
    "                    caption = caption.strip('\\n')\n",
    "                    caption = word_tokenize(caption)\n",
    "                    caption = [token.lower() for token in caption if token != ',']\n",
    "                    og_dictn[img_id].append(caption)\n",
    "    return og_dictn\n"
   ]
  },
  {
   "cell_type": "code",
   "execution_count": 88,
   "id": "b1311013",
   "metadata": {},
   "outputs": [],
   "source": [
    "def get_pred_captions(pred_file):\n",
    "    with open(pred_file) as jj:\n",
    "        pred_dictn = json.loads(jj.read())\n",
    "    return pred_dictn\n",
    "\n",
    "def remove_start_end(predictions):\n",
    "    for img_id, prediction in predictions.items():\n",
    "        prediction.remove('<start>')\n",
    "        prediction.remove('<end>')\n",
    "        predictions[img_id] = prediction\n",
    "    return predictions"
   ]
  },
  {
   "cell_type": "code",
   "execution_count": 76,
   "id": "90a46606",
   "metadata": {},
   "outputs": [],
   "source": [
    "def hit_by_meteor(predictions, originals):\n",
    "    scores = dict()\n",
    "    space = ' '\n",
    "    for img_id, reference_list in tqdm(originals.items()):\n",
    "        scores[img_id] = dict()\n",
    "        for i, reference in enumerate(reference_list):\n",
    "            candidate = predictions[img_id]\n",
    "            candidate = space.join(candidate)\n",
    "            reference = space.join(reference)\n",
    "            meteor = pymeteor.meteor(candidate, reference)\n",
    "            scores[img_id][i] = meteor\n",
    "    return scores\n"
   ]
  },
  {
   "cell_type": "code",
   "execution_count": 77,
   "id": "7278416e",
   "metadata": {},
   "outputs": [],
   "source": [
    "def max_out_meteor(results, originals):\n",
    "    max_scores = dict()\n",
    "    for img_id, scores in results.items():\n",
    "        max_score = max(list(scores.values()))\n",
    "        max_scores[img_id] = max_score\n",
    "    avg = sum(max_scores.values())/len(originals)\n",
    "    return max_scores, avg"
   ]
  },
  {
   "cell_type": "code",
   "execution_count": 89,
   "id": "941c4df5",
   "metadata": {},
   "outputs": [],
   "source": [
    "def pipeline(cap_path, pred_path):\n",
    "    all_results = dict()\n",
    "    original_captions = get_og_captions(cap_path)\n",
    "    for pred_file in listdir(pred_path):\n",
    "        print(pred_file)\n",
    "        pred_file = 'predictions_celeb_small_res_m3_trained_on_celeb_small_res.json'\n",
    "        predicted_captions = get_pred_captions(f'{pred_path}/{pred_file}')\n",
    "        predicted_captions = remove_start_end(predicted_captions)\n",
    "        per_caption_scores = hit_by_meteor(predicted_captions, original_captions)\n",
    "        per_image_scores, one_score = max_out_meteor(per_caption_scores, original_captions)\n",
    "        all_results[pred_file] = one_score\n",
    "    \n",
    "    with open(\"meteor_results.json\", \"w\") as jj:\n",
    "        json.dump(all_results, jj)\n",
    "            "
   ]
  },
  {
   "cell_type": "code",
   "execution_count": 90,
   "id": "de566846",
   "metadata": {},
   "outputs": [
    {
     "name": "stderr",
     "output_type": "stream",
     "text": [
      "100%|██████████████████████████████████████████████████████████████████████████████████████████████████████████████████████████████████████████████████████████████| 30000/30000 [00:01<00:00, 28069.68it/s]\n"
     ]
    },
    {
     "name": "stdout",
     "output_type": "stream",
     "text": [
      "predictions_freakshow_m9_trained_on_antons.json\n"
     ]
    },
    {
     "name": "stderr",
     "output_type": "stream",
     "text": [
      "100%|██████████████████████████████████████████████████████████████████████████████████████████████████████████████████████████████████████████████████████████████████| 1000/1000 [00:01<00:00, 918.13it/s]\n"
     ]
    },
    {
     "name": "stdout",
     "output_type": "stream",
     "text": [
      "predictions_celeb_small_res_m6_trained_on_freakshow.json\n"
     ]
    },
    {
     "name": "stderr",
     "output_type": "stream",
     "text": [
      "100%|██████████████████████████████████████████████████████████████████████████████████████████████████████████████████████████████████████████████████████████████████| 1000/1000 [00:01<00:00, 926.36it/s]\n"
     ]
    },
    {
     "name": "stdout",
     "output_type": "stream",
     "text": [
      ".DS_Store\n"
     ]
    },
    {
     "name": "stderr",
     "output_type": "stream",
     "text": [
      "100%|██████████████████████████████████████████████████████████████████████████████████████████████████████████████████████████████████████████████████████████████████| 1000/1000 [00:01<00:00, 923.50it/s]\n"
     ]
    },
    {
     "name": "stdout",
     "output_type": "stream",
     "text": [
      "predictions_sketches_m3_trained_on_celeb_small_res.json\n"
     ]
    },
    {
     "name": "stderr",
     "output_type": "stream",
     "text": [
      "100%|██████████████████████████████████████████████████████████████████████████████████████████████████████████████████████████████████████████████████████████████████| 1000/1000 [00:01<00:00, 926.51it/s]\n"
     ]
    },
    {
     "name": "stdout",
     "output_type": "stream",
     "text": [
      "predictions_celeb_small_res_m3_trained_on_celeb_small_res.json\n"
     ]
    },
    {
     "name": "stderr",
     "output_type": "stream",
     "text": [
      "100%|██████████████████████████████████████████████████████████████████████████████████████████████████████████████████████████████████████████████████████████████████| 1000/1000 [00:01<00:00, 924.43it/s]\n"
     ]
    },
    {
     "name": "stdout",
     "output_type": "stream",
     "text": [
      "predictions_celeb_small_res_m7_trained_on_b_sketches.json\n"
     ]
    },
    {
     "name": "stderr",
     "output_type": "stream",
     "text": [
      "100%|██████████████████████████████████████████████████████████████████████████████████████████████████████████████████████████████████████████████████████████████████| 1000/1000 [00:01<00:00, 926.33it/s]\n"
     ]
    },
    {
     "name": "stdout",
     "output_type": "stream",
     "text": [
      "predictions_freakshow_m7_trained_on_b_sketches.json\n"
     ]
    },
    {
     "name": "stderr",
     "output_type": "stream",
     "text": [
      "100%|██████████████████████████████████████████████████████████████████████████████████████████████████████████████████████████████████████████████████████████████████| 1000/1000 [00:01<00:00, 770.70it/s]\n"
     ]
    },
    {
     "name": "stdout",
     "output_type": "stream",
     "text": [
      "predictions_freakshow_m6_trained_on_freakshow.json\n"
     ]
    },
    {
     "name": "stderr",
     "output_type": "stream",
     "text": [
      "100%|██████████████████████████████████████████████████████████████████████████████████████████████████████████████████████████████████████████████████████████████████| 1000/1000 [00:01<00:00, 926.42it/s]\n"
     ]
    },
    {
     "name": "stdout",
     "output_type": "stream",
     "text": [
      "predictions_sketches_m9_trained_on_antons.json\n"
     ]
    },
    {
     "name": "stderr",
     "output_type": "stream",
     "text": [
      "100%|██████████████████████████████████████████████████████████████████████████████████████████████████████████████████████████████████████████████████████████████████| 1000/1000 [00:01<00:00, 923.18it/s]\n"
     ]
    },
    {
     "name": "stdout",
     "output_type": "stream",
     "text": [
      "predictions_freakshow_m3_trained_on_celeb_small_res.json\n"
     ]
    },
    {
     "name": "stderr",
     "output_type": "stream",
     "text": [
      "100%|██████████████████████████████████████████████████████████████████████████████████████████████████████████████████████████████████████████████████████████████████| 1000/1000 [00:01<00:00, 928.25it/s]\n"
     ]
    },
    {
     "name": "stdout",
     "output_type": "stream",
     "text": [
      "predictions_sketches_m5_trained_on_sketches.json\n"
     ]
    },
    {
     "name": "stderr",
     "output_type": "stream",
     "text": [
      "100%|██████████████████████████████████████████████████████████████████████████████████████████████████████████████████████████████████████████████████████████████████| 1000/1000 [00:01<00:00, 926.62it/s]\n"
     ]
    },
    {
     "name": "stdout",
     "output_type": "stream",
     "text": [
      "predictions_freakshow_m5_trained_on_sketches.json\n"
     ]
    },
    {
     "name": "stderr",
     "output_type": "stream",
     "text": [
      "100%|██████████████████████████████████████████████████████████████████████████████████████████████████████████████████████████████████████████████████████████████████| 1000/1000 [00:01<00:00, 927.55it/s]\n"
     ]
    },
    {
     "name": "stdout",
     "output_type": "stream",
     "text": [
      "predictions_sketches_m6_trained_on_freakshow.json\n"
     ]
    },
    {
     "name": "stderr",
     "output_type": "stream",
     "text": [
      "100%|██████████████████████████████████████████████████████████████████████████████████████████████████████████████████████████████████████████████████████████████████| 1000/1000 [00:01<00:00, 922.12it/s]\n"
     ]
    },
    {
     "name": "stdout",
     "output_type": "stream",
     "text": [
      "predictions_sketches_m7_trained_on_b_sketches.json\n"
     ]
    },
    {
     "name": "stderr",
     "output_type": "stream",
     "text": [
      "100%|██████████████████████████████████████████████████████████████████████████████████████████████████████████████████████████████████████████████████████████████████| 1000/1000 [00:01<00:00, 777.26it/s]\n"
     ]
    },
    {
     "name": "stdout",
     "output_type": "stream",
     "text": [
      "predictions_celeb_small_res_m5_trained_on_sketches.json\n"
     ]
    },
    {
     "name": "stderr",
     "output_type": "stream",
     "text": [
      "100%|██████████████████████████████████████████████████████████████████████████████████████████████████████████████████████████████████████████████████████████████████| 1000/1000 [00:01<00:00, 924.55it/s]\n"
     ]
    },
    {
     "name": "stdout",
     "output_type": "stream",
     "text": [
      "predictions_celeb_small_res_m9_trained_on_antons.json\n"
     ]
    },
    {
     "name": "stderr",
     "output_type": "stream",
     "text": [
      "100%|██████████████████████████████████████████████████████████████████████████████████████████████████████████████████████████████████████████████████████████████████| 1000/1000 [00:01<00:00, 924.00it/s]\n"
     ]
    }
   ],
   "source": [
    "pipeline(cap_path, pred_path)"
   ]
  },
  {
   "cell_type": "code",
   "execution_count": null,
   "id": "6342c5e0",
   "metadata": {},
   "outputs": [],
   "source": []
  }
 ],
 "metadata": {
  "kernelspec": {
   "display_name": "kiki",
   "language": "python",
   "name": "kiki"
  },
  "language_info": {
   "codemirror_mode": {
    "name": "ipython",
    "version": 3
   },
   "file_extension": ".py",
   "mimetype": "text/x-python",
   "name": "python",
   "nbconvert_exporter": "python",
   "pygments_lexer": "ipython3",
   "version": "3.9.9"
  }
 },
 "nbformat": 4,
 "nbformat_minor": 5
}
