{
 "cells": [
  {
   "cell_type": "markdown",
   "metadata": {
    "id": "9pHyJWpRVA1S"
   },
   "source": [
    "### Importing the libraries\n",
    "\n"
   ]
  },
  {
   "cell_type": "code",
   "execution_count": 1,
   "metadata": {
    "id": "pkQpidlyq9Wp"
   },
   "outputs": [],
   "source": [
    "import numpy as np\n",
    "import sklearn \n",
    "import pandas as pd\n",
    "import os \n",
    "import cv2\n",
    "\n",
    "\n",
    "from sklearn.model_selection import train_test_split\n",
    "from sklearn.multioutput import MultiOutputClassifier\n",
    "from sklearn.ensemble import RandomForestClassifier\n",
    "from sklearn.metrics import classification_report\n",
    "from sklearn.svm import LinearSVC\n",
    "from sklearn.metrics import multilabel_confusion_matrix, ConfusionMatrixDisplay"
   ]
  },
  {
   "cell_type": "markdown",
   "metadata": {
    "id": "7jW3YL4t4YWM"
   },
   "source": [
    "# Loading the images which will serve as ***x***"
   ]
  },
  {
   "cell_type": "markdown",
   "metadata": {
    "id": "XcHqeDq9VNdl"
   },
   "source": [
    "## *Pictures*"
   ]
  },
  {
   "cell_type": "code",
   "execution_count": 2,
   "metadata": {
    "colab": {
     "base_uri": "https://localhost:8080/"
    },
    "id": "OxNQWFhRvWnO",
    "outputId": "dcc3635c-f0c2-4258-f26e-21811e835a65"
   },
   "outputs": [
    {
     "name": "stdout",
     "output_type": "stream",
     "text": [
      "(10000, 65536)\n"
     ]
    }
   ],
   "source": [
    "#Loading the pictures and adding them to the X marix\n",
    "os.chdir(r'/home/guscerra@GU.GU.SE/aics-project/desim_tukstanciu/pictures')\n",
    "\n",
    "pic_files = os.listdir()\n",
    "\n",
    "for i, file in enumerate(pic_files[:10000]):\n",
    "\n",
    "  file_loaded = cv2.imread(file, 0)\n",
    "  file_vec = np.asarray(file_loaded).reshape(1, -1)\n",
    "\n",
    "  if i == 0:\n",
    "    x = file_vec\n",
    "  else:\n",
    "    x = np.concatenate((x, file_vec))\n",
    "\n",
    "print(x.shape)"
   ]
  },
  {
   "cell_type": "markdown",
   "metadata": {
    "id": "BVMJgb_VVQIV"
   },
   "source": [
    "## *Sketches - high Q*"
   ]
  },
  {
   "cell_type": "code",
   "execution_count": 12,
   "metadata": {
    "colab": {
     "base_uri": "https://localhost:8080/"
    },
    "id": "2yrdPqHTkL9c",
    "outputId": "ec277945-0880-4c91-e68e-1e3d50a8fd85"
   },
   "outputs": [
    {
     "name": "stdout",
     "output_type": "stream",
     "text": [
      "(10000, 65536)\n"
     ]
    }
   ],
   "source": [
    "#Loading the pictures and adding them to the X marix\n",
    "os.chdir(r'/home/guscerra@GU.GU.SE/aics-project/desim_tukstanciu/sketches')\n",
    "\n",
    "sketch_files = os.listdir()\n",
    "\n",
    "for i, file in enumerate(sketch_files[:10000]):\n",
    "\n",
    "  file_loaded = cv2.imread(file, 0)\n",
    "  file_vec = np.asarray(file_loaded).reshape(1, -1)\n",
    "\n",
    "  if i == 0:\n",
    "    x = file_vec\n",
    "  else:\n",
    "    x = np.concatenate((x, file_vec))\n",
    "\n",
    "print(x.shape)"
   ]
  },
  {
   "cell_type": "markdown",
   "metadata": {},
   "source": [
    "## *Sketches - low Q*"
   ]
  },
  {
   "cell_type": "code",
   "execution_count": 5,
   "metadata": {},
   "outputs": [
    {
     "name": "stdout",
     "output_type": "stream",
     "text": [
      "(10000, 65536)\n"
     ]
    }
   ],
   "source": [
    "#Loading the pictures and adding them to the X marix\n",
    "os.chdir(r'/home/guscerra@GU.GU.SE/aics-project/puikus_sketchai')\n",
    "\n",
    "sketch_files = os.listdir()\n",
    "\n",
    "for i, file in enumerate(sketch_files[:10000]):\n",
    "\n",
    "  file_loaded = cv2.imread(file, 0)\n",
    "  file_vec = np.asarray(file_loaded).reshape(1, -1)\n",
    "\n",
    "  if i == 0:\n",
    "    x = file_vec\n",
    "  else:\n",
    "    x = np.concatenate((x, file_vec))\n",
    "\n",
    "print(x.shape)"
   ]
  },
  {
   "cell_type": "markdown",
   "metadata": {
    "id": "yHcS7zGT4hAW"
   },
   "source": [
    "# Loading the features which will serve as ***y***"
   ]
  },
  {
   "cell_type": "code",
   "execution_count": 3,
   "metadata": {
    "colab": {
     "base_uri": "https://localhost:8080/"
    },
    "id": "Ph78BJY2rZUE",
    "outputId": "a213fdfa-1e9e-47df-e81c-e90204cad5c8"
   },
   "outputs": [
    {
     "name": "stdout",
     "output_type": "stream",
     "text": [
      "(10000, 40)\n"
     ]
    }
   ],
   "source": [
    "#Accessing the file with features\n",
    "os.chdir(r'/home/guscerra@GU.GU.SE/aics-project/desim_tukstanciu')\n",
    "\n",
    "with open('CelebAMask-HQ-attribute-anno.txt', 'r', encoding='utf-8') as infile:\n",
    "  lines = infile.readlines()\n",
    "\n",
    "#Extracting columns\n",
    "features = lines[1].replace('\\n', '').split(' ')\n",
    "\n",
    "#Initialzing a DataFrame\n",
    "data = pd.DataFrame(columns=features)\n",
    "\n",
    "#Filling in the DataFrame\n",
    "for i, line in enumerate(lines[2:10002]):\n",
    "  split = line.replace('\\n', '').split(' ')[2:]\n",
    "  data_row = [int(variable) for variable in split]\n",
    "  data.loc[i] = data_row\n",
    "\n",
    "#Chaning -1 to 0 for convenience\n",
    "data = data.replace(-1, 0)\n",
    "\n",
    "#Last touch\n",
    "y = data.to_numpy()\n",
    "print(y.shape)"
   ]
  },
  {
   "cell_type": "markdown",
   "metadata": {
    "id": "MmgIVyi9GZen"
   },
   "source": [
    "Train test split"
   ]
  },
  {
   "cell_type": "code",
   "execution_count": 4,
   "metadata": {
    "colab": {
     "base_uri": "https://localhost:8080/"
    },
    "id": "gN5AswJHGXl4",
    "outputId": "4586fe0f-d46a-4eee-a6b5-2b0d232dec11"
   },
   "outputs": [
    {
     "name": "stdout",
     "output_type": "stream",
     "text": [
      "X_train size: 9000\n",
      "y_train size: 9000\n",
      "\n",
      "X_test size: 1000\n",
      "y_test size: 1000\n"
     ]
    }
   ],
   "source": [
    "X_train, X_test, y_train, y_test = train_test_split(x, y, test_size=0.1)\n",
    "\n",
    "print(f'X_train size: {len(X_train)}')\n",
    "print(f'y_train size: {len(y_train)}\\n')\n",
    "print(f'X_test size: {len(X_test)}')\n",
    "print(f'y_test size: {len(y_test)}')"
   ]
  },
  {
   "cell_type": "code",
   "execution_count": 5,
   "metadata": {
    "id": "hJVyPhvXaUCY"
   },
   "outputs": [],
   "source": [
    "#A function to map the prediction to the original features\n",
    "def prediction_to_features(prediction):\n",
    "  predicted_features = []\n",
    "\n",
    "  for i, value in enumerate(prediction[0, :]):\n",
    "    if value == 1:\n",
    "      predicted_features.append(features[i])\n",
    "\n",
    "  return predicted_features"
   ]
  },
  {
   "cell_type": "markdown",
   "metadata": {
    "id": "TgI3Up9pHyzM"
   },
   "source": [
    "The classifier"
   ]
  },
  {
   "cell_type": "code",
   "execution_count": 8,
   "metadata": {
    "colab": {
     "base_uri": "https://localhost:8080/"
    },
    "id": "fPWiwaqFH0a_",
    "outputId": "0c6f6bea-1eb2-4c08-f593-e0781f2ac113"
   },
   "outputs": [
    {
     "data": {
      "text/plain": [
       "MultiOutputClassifier(estimator=RandomForestClassifier(random_state=1),\n",
       "                      n_jobs=-1)"
      ]
     },
     "execution_count": 8,
     "metadata": {},
     "output_type": "execute_result"
    }
   ],
   "source": [
    "forest = RandomForestClassifier(random_state=1)\n",
    "multi_target_forest = MultiOutputClassifier(forest, n_jobs=-1)\n",
    "\n",
    "multi_target_forest.fit(X_train, y_train)"
   ]
  },
  {
   "cell_type": "code",
   "execution_count": 9,
   "metadata": {
    "colab": {
     "base_uri": "https://localhost:8080/"
    },
    "id": "hqcNb_P2IsKR",
    "outputId": "41214573-5f04-45d0-bd7b-65a89ee6665c"
   },
   "outputs": [
    {
     "name": "stdout",
     "output_type": "stream",
     "text": [
      "Predicted features: ['Attractive', 'Heavy_Makeup', 'No_Beard', 'Smiling', 'Wearing_Lipstick', 'Young']\n",
      "\n",
      "Gold standard: ['Arched_Eyebrows', 'Attractive', 'Bags_Under_Eyes', 'Big_Lips', 'Brown_Hair', 'Bushy_Eyebrows', 'Heavy_Makeup', 'High_Cheekbones', 'Mouth_Slightly_Open', 'No_Beard', 'Pointy_Nose', 'Smiling', 'Wavy_Hair', 'Wearing_Lipstick', 'Young']\n"
     ]
    }
   ],
   "source": [
    "x_hat = multi_target_forest.predict(X_test[0].reshape(1, -1))\n",
    "\n",
    "print(f'Predicted features: {prediction_to_features(x_hat)}\\n')\n",
    "print(f'Gold standard: {prediction_to_features(y)}')"
   ]
  },
  {
   "cell_type": "code",
   "execution_count": 11,
   "metadata": {
    "colab": {
     "base_uri": "https://localhost:8080/"
    },
    "id": "cJ_ELn-hKG15",
    "outputId": "b58c4cb1-deef-4f55-ea04-ec6cb2511e2d"
   },
   "outputs": [
    {
     "name": "stdout",
     "output_type": "stream",
     "text": [
      "                     precision    recall  f1-score   support\n",
      "\n",
      "   5_o_Clock_Shadow       0.17      0.01      0.01       141\n",
      "    Arched_Eyebrows       0.43      0.11      0.18       437\n",
      "         Attractive       0.59      0.89      0.71       593\n",
      "    Bags_Under_Eyes       0.38      0.03      0.05       296\n",
      "               Bald       0.00      0.00      0.00        18\n",
      "              Bangs       0.33      0.02      0.04       161\n",
      "           Big_Lips       0.38      0.13      0.19       405\n",
      "           Big_Nose       0.38      0.04      0.07       328\n",
      "         Black_Hair       0.31      0.02      0.04       209\n",
      "         Blond_Hair       0.00      0.00      0.00       205\n",
      "             Blurry       0.00      0.00      0.00         4\n",
      "         Brown_Hair       0.12      0.00      0.01       230\n",
      "     Bushy_Eyebrows       0.50      0.02      0.04       176\n",
      "             Chubby       0.00      0.00      0.00        68\n",
      "        Double_Chin       0.00      0.00      0.00        45\n",
      "         Eyeglasses       0.00      0.00      0.00        31\n",
      "             Goatee       0.00      0.00      0.00        56\n",
      "          Gray_Hair       0.00      0.00      0.00        26\n",
      "       Heavy_Makeup       0.50      0.55      0.52       508\n",
      "    High_Cheekbones       0.41      0.38      0.39       464\n",
      "               Male       0.18      0.01      0.02       277\n",
      "Mouth_Slightly_Open       0.51      0.42      0.46       470\n",
      "           Mustache       0.00      0.00      0.00        53\n",
      "        Narrow_Eyes       0.14      0.01      0.02       115\n",
      "           No_Beard       0.85      1.00      0.92       854\n",
      "          Oval_Face       0.12      0.01      0.01       159\n",
      "          Pale_Skin       0.00      0.00      0.00        54\n",
      "        Pointy_Nose       0.33      0.04      0.07       351\n",
      "  Receding_Hairline       0.00      0.00      0.00        74\n",
      "        Rosy_Cheeks       0.30      0.02      0.04       152\n",
      "          Sideburns       0.00      0.00      0.00        66\n",
      "            Smiling       0.44      0.33      0.38       469\n",
      "      Straight_Hair       0.57      0.02      0.04       204\n",
      "          Wavy_Hair       0.45      0.09      0.14       383\n",
      "   Wearing_Earrings       0.37      0.04      0.07       356\n",
      "        Wearing_Hat       0.00      0.00      0.00        29\n",
      "   Wearing_Lipstick       0.62      0.94      0.75       629\n",
      "   Wearing_Necklace       0.17      0.01      0.02       222\n",
      "    Wearing_Necktie       0.00      0.00      0.00        65\n",
      "              Young       0.82      0.99      0.90       821\n",
      "\n",
      "          micro avg       0.62      0.37      0.46     10204\n",
      "          macro avg       0.26      0.15      0.15     10204\n",
      "       weighted avg       0.45      0.37      0.35     10204\n",
      "        samples avg       0.63      0.38      0.46     10204\n",
      "\n"
     ]
    },
    {
     "name": "stderr",
     "output_type": "stream",
     "text": [
      "/usr/local/lib64/python3.9/site-packages/sklearn/metrics/_classification.py:1248: UndefinedMetricWarning: Precision and F-score are ill-defined and being set to 0.0 in labels with no predicted samples. Use `zero_division` parameter to control this behavior.\n",
      "  _warn_prf(average, modifier, msg_start, len(result))\n"
     ]
    }
   ],
   "source": [
    "print(classification_report(y_test, y_hat, target_names=features))\n"
   ]
  },
  {
   "cell_type": "code",
   "execution_count": 10,
   "metadata": {
    "id": "Lk48y6eWJLvR"
   },
   "outputs": [],
   "source": [
    "y_hat = multi_target_forest.predict(X_test)\n"
   ]
  },
  {
   "cell_type": "markdown",
   "metadata": {},
   "source": [
    "## SVM"
   ]
  },
  {
   "cell_type": "code",
   "execution_count": null,
   "metadata": {},
   "outputs": [],
   "source": [
    "svm = LinearSVC(random_state=42)\n",
    "\n",
    "multi_target_svm = MultiOutputClassifier(svm, n_jobs=-1)\n"
   ]
  },
  {
   "cell_type": "code",
   "execution_count": null,
   "metadata": {},
   "outputs": [],
   "source": [
    "multi_target_svm.fit(X_train, y_train)\n",
    "\n",
    "y_hat = multilabel_classifier.predict(X_test)\n",
    "\n",
    "print(classification_report(y_test, y_hat, target_names=features))"
   ]
  }
 ],
 "metadata": {
  "accelerator": "GPU",
  "colab": {
   "collapsed_sections": [],
   "name": "AI_baseline.ipynb",
   "provenance": []
  },
  "kernelspec": {
   "display_name": "Python 3 (ipykernel)",
   "language": "python",
   "name": "python3"
  },
  "language_info": {
   "codemirror_mode": {
    "name": "ipython",
    "version": 3
   },
   "file_extension": ".py",
   "mimetype": "text/x-python",
   "name": "python",
   "nbconvert_exporter": "python",
   "pygments_lexer": "ipython3",
   "version": "3.9.6"
  }
 },
 "nbformat": 4,
 "nbformat_minor": 1
}
