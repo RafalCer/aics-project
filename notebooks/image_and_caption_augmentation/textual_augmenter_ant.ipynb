{
 "cells": [
  {
   "cell_type": "markdown",
   "metadata": {},
   "source": [
    "# Caption augmenter \n",
    "Adapted from https://github.com/makcedward/nlpaug"
   ]
  },
  {
   "cell_type": "code",
   "execution_count": 1,
   "metadata": {},
   "outputs": [],
   "source": [
    "from nlpaug.util.file.download import DownloadUtil\n",
    "DownloadUtil.download_word2vec(dest_dir='.') # Download word2vec model\n",
    "DownloadUtil.download_glove(model_name='glove.6B', dest_dir='.') # Download GloVe model\n",
    "DownloadUtil.download_fasttext(model_name='wiki-news-300d-1M', dest_dir='.') # Download fasttext model"
   ]
  },
  {
   "cell_type": "markdown",
   "metadata": {},
   "source": [
    "# Config"
   ]
  },
  {
   "cell_type": "code",
   "execution_count": null,
   "metadata": {},
   "outputs": [],
   "source": [
    "import nlpaug.augmenter.word as naw\n",
    "import nlpaug.augmenter.sentence as nas\n",
    "import nlpaug.flow as nafc\n",
    "\n",
    "from nlpaug.util import Action"
   ]
  },
  {
   "cell_type": "markdown",
   "metadata": {},
   "source": [
    "Importing the captions from CelebA-HQ dataset and putting them in a dictionary, so every key is a file name from the dataset, and every value is the coresponding celebrity description. "
   ]
  },
  {
   "cell_type": "code",
   "execution_count": 3,
   "metadata": {},
   "outputs": [],
   "source": [
    "import os\n",
    "from collections import OrderedDict\n",
    "\n",
    "os.chdir('/home/gusbuzvi@GU.GU.SE/aics/captions')\n",
    "\n",
    "text = OrderedDict()\n",
    "for filename in os.listdir():\n",
    "    with open(filename, 'r') as f:\n",
    "        captions = f.read()\n",
    "        captions = captions.strip().split('\\n')\n",
    "    text[filename] = captions"
   ]
  },
  {
   "cell_type": "markdown",
   "metadata": {},
   "source": [
    "# Word Augmenter<a class=\"anchor\" id=\"word_aug\"></a>\n",
    "\n",
    "Here word level augmentation is performed in order to increase the vocabulary for celebrity descriptions. We make use of word2vec (Mikolov et al., 2013), GloVe (Pennington et al., 2014), fasttext (Joulin et al., 2016), BERT(Devlin et al., 2018) and WordNet to insert and substitute similar word. `Word2vecAug`,  `GloVeAug` and `FasttextAug` use word embeddings to find most similar group of words to replace original word. On the other hand, `BertAug` use language models to predict possible target word. `WordNetAug` use statistics way to find the similar group of words."
   ]
  },
  {
   "cell_type": "markdown",
   "metadata": {},
   "source": [
    "### Word Embeddings Augmenter<a class=\"anchor\" id=\"word_embs_aug\"></a>"
   ]
  },
  {
   "cell_type": "markdown",
   "metadata": {},
   "source": [
    "##### Insert word randomly by word embeddings similarity"
   ]
  },
  {
   "cell_type": "code",
   "execution_count": 14,
   "metadata": {},
   "outputs": [
    {
     "name": "stdout",
     "output_type": "stream",
     "text": [
      "Original:\n",
      "['This person has bags under eyes and wears lipstick, necklace, and earrings. She is smiling.', 'The woman has bags under eyes, mouth slightly open, arched eyebrows, blond hair, and high cheekbones. She wears earrings.', 'This woman wears heavy makeup. She has arched eyebrows. She is smiling, and young.', 'This person is attractive, and young and has bags under eyes, wavy hair, arched eyebrows, and mouth slightly open. ', 'She is wearing lipstick. She has blond hair, wavy hair, bags under eyes, and mouth slightly open. She is smiling, and attractive.']\n",
      "Augmented Text:\n",
      "['LaPlata This person has FIFI bags FAQS under Masquerade eyes and wears lipstick, WNBR necklace, and earrings. She is KwaNdebele smiling.', 'The woman has Azurite bags under Funassyi eyes, Menschel mouth slightly open, arched eyebrows, coalmining blond Jiuling hair, and dance- high cheekbones. Kambo She wears Sagoths earrings.', 'Airwaves This Kryvyi woman موږ wears heavy makeup. She has arched eyebrows. She is Burke-Gilman smiling, PREPARING and low-complexity young.', 'Trinitresque This person LLU is attractive, and --Boston young and Finesilver has RoW bags under eyes, wavy Daksha hair, Jakar arched eyebrows, and Masturbator mouth slightly open.', 'She downtrack is Verm wearing lipstick. She has blond hair, Ambuj wavy hair, bags under Pandoravirus eyes, and Wyrley mouth Superfast1111 slightly 7.5k open. She is 1828-1829 smiling, Whittlesea and attractive.']\n"
     ]
    }
   ],
   "source": [
    "# model_type: word2vec, glove or fasttext\n",
    "model_dir = '/home/gusbuzvi@GU.GU.SE/aics'\n",
    "# text = text['3792.txt'][0:5] #5 first image captions of the demo girl\n",
    "aug = naw.WordEmbsAug(\n",
    "#     model_type='word2vec', model_path=model_dir+'GoogleNews-vectors-negative300.bin',\n",
    "#     model_type='glove', model_path=model_dir+'glove.6B.300d.txt',\n",
    "    model_type='fasttext', model_path=model_dir+'wiki-news-300d-1M.vec',\n",
    "    action=\"insert\")\n",
    "augmented_text = aug.augment(text)\n",
    "print(\"Original:\")\n",
    "print(text)\n",
    "print(\"Augmented Text:\")\n",
    "print(augmented_text)"
   ]
  },
  {
   "cell_type": "markdown",
   "metadata": {},
   "source": [
    "##### Substitute word by word2vec similarity"
   ]
  },
  {
   "cell_type": "code",
   "execution_count": 13,
   "metadata": {},
   "outputs": [
    {
     "name": "stdout",
     "output_type": "stream",
     "text": [
      "Original:\n",
      "['This person has bags under eyes and wears lipstick, necklace, and earrings. She is smiling.', 'The woman has bags under eyes, mouth slightly open, arched eyebrows, blond hair, and high cheekbones. She wears earrings.', 'This woman wears heavy makeup. She has arched eyebrows. She is smiling, and young.', 'This person is attractive, and young and has bags under eyes, wavy hair, arched eyebrows, and mouth slightly open. ', 'She is wearing lipstick. She has blond hair, wavy hair, bags under eyes, and mouth slightly open. She is smiling, and attractive.']\n",
      "Augmented Text:\n",
      "['This person has bags under ever-watchful and assumes mini-skirt, neckpiece, finally earrings. She is kissing.', 'The woman has cartons under skin, mouth slightly build, latticed eyebrows, gray-eyed blow-dry, and high cheekbones. So competes earrings.', 'This husband- wears huge makeups. She has arched eyebrows. She constitutes smiling, making whippersnappers.', 'Moreover person is attractive, and young and has bags beside eyes, wavy strawberry-blonde, bow-shaped question, thereafter mouth slowly locked.', 'Others is tanktop lipstick. She has blond tousled, chin-length toupee, bags underneath eyes, and mouth far open. Nevertheless is amused, and attractive.']\n"
     ]
    }
   ],
   "source": [
    "# model_type: word2vec, glove or fasttext\n",
    "model_dir = '/home/gusbuzvi@GU.GU.SE/aics/'\n",
    "aug = naw.WordEmbsAug(\n",
    "#     model_type='word2vec', model_path=model_dir+'GoogleNews-vectors-negative300.bin',\n",
    "#     model_type='glove', model_path=model_dir+'glove.6B.300d.txt',\n",
    "    model_type='fasttext', model_path=model_dir+'wiki-news-300d-1M.vec', #biski geriau\n",
    "    action=\"substitute\")\n",
    "augmented_text = aug.augment(text)\n",
    "print(\"Original:\")\n",
    "print(text)\n",
    "print(\"Augmented Text:\")\n",
    "print(augmented_text)"
   ]
  },
  {
   "cell_type": "markdown",
   "metadata": {},
   "source": [
    "### Contextual Word Embeddings Augmenter<a class=\"anchor\" id=\"context_word_embs_aug\"></a>"
   ]
  },
  {
   "cell_type": "markdown",
   "metadata": {},
   "source": [
    "##### Insert word by contextual word embeddings (BERT, DistilBERT, RoBERTA or XLNet)"
   ]
  },
  {
   "cell_type": "code",
   "execution_count": 16,
   "metadata": {},
   "outputs": [
    {
     "name": "stdout",
     "output_type": "stream",
     "text": [
      "Original:\n",
      "['This person has bags under eyes and wears lipstick, necklace, and earrings. She is smiling.', 'The woman has bags under eyes, mouth slightly open, arched eyebrows, blond hair, and high cheekbones. She wears earrings.', 'This woman wears heavy makeup. She has arched eyebrows. She is smiling, and young.', 'This person is attractive, and young and has bags under eyes, wavy hair, arched eyebrows, and mouth slightly open. ', 'She is wearing lipstick. She has blond hair, wavy hair, bags under eyes, and mouth slightly open. She is smiling, and attractive.']\n",
      "Augmented Text:\n",
      "['then this person only has bags showing under eyes and always wears lipstick, beautiful necklace, piercing and earrings. she is smiling.', 'overall the woman has bags under eyes, her mouth open slightly open, dark arched eyebrows, black blond hair, and with high side cheekbones. now she wears earrings.', 'female this woman generally wears heavy black makeup. she has two arched eyebrows. she although is generally smiling, and young.', 'sometimes this person is attractive, short and so young and also has bags hiding under eyes, wavy silver hair, highly arched eyebrows, throat and mouth slightly open.', 'while she is wearing lipstick. like she who has blond hair, blonde wavy hair, rain bags under gray eyes, and is mouth slightly open. she is barely smiling, thin and attractive.']\n"
     ]
    }
   ],
   "source": [
    "aug = naw.ContextualWordEmbsAug(\n",
    "    model_path='bert-base-uncased', action=\"insert\")\n",
    "augmented_text = aug.augment(text)\n",
    "print(\"Original:\")\n",
    "print(text)\n",
    "print(\"Augmented Text:\")\n",
    "print(augmented_text)"
   ]
  },
  {
   "cell_type": "markdown",
   "metadata": {},
   "source": [
    "##### Substitute word by contextual word embeddings (BERT, DistilBERT, RoBERTA or XLNet)"
   ]
  },
  {
   "cell_type": "code",
   "execution_count": 15,
   "metadata": {},
   "outputs": [
    {
     "data": {
      "application/vnd.jupyter.widget-view+json": {
       "model_id": "70cb4a3d74594317b6c7672dbe6fe184",
       "version_major": 2,
       "version_minor": 0
      },
      "text/plain": [
       "Downloading:   0%|          | 0.00/28.0 [00:00<?, ?B/s]"
      ]
     },
     "metadata": {},
     "output_type": "display_data"
    },
    {
     "data": {
      "application/vnd.jupyter.widget-view+json": {
       "model_id": "59ff333363564091a909193a00470319",
       "version_major": 2,
       "version_minor": 0
      },
      "text/plain": [
       "Downloading:   0%|          | 0.00/570 [00:00<?, ?B/s]"
      ]
     },
     "metadata": {},
     "output_type": "display_data"
    },
    {
     "data": {
      "application/vnd.jupyter.widget-view+json": {
       "model_id": "55687bb2f7274e939c679c7d02355de7",
       "version_major": 2,
       "version_minor": 0
      },
      "text/plain": [
       "Downloading:   0%|          | 0.00/226k [00:00<?, ?B/s]"
      ]
     },
     "metadata": {},
     "output_type": "display_data"
    },
    {
     "data": {
      "application/vnd.jupyter.widget-view+json": {
       "model_id": "705bca955b06475aa08d0126b95762e2",
       "version_major": 2,
       "version_minor": 0
      },
      "text/plain": [
       "Downloading:   0%|          | 0.00/455k [00:00<?, ?B/s]"
      ]
     },
     "metadata": {},
     "output_type": "display_data"
    },
    {
     "data": {
      "application/vnd.jupyter.widget-view+json": {
       "model_id": "0b7b1ea974b44676b00689d00cb98bfb",
       "version_major": 2,
       "version_minor": 0
      },
      "text/plain": [
       "Downloading:   0%|          | 0.00/420M [00:00<?, ?B/s]"
      ]
     },
     "metadata": {},
     "output_type": "display_data"
    },
    {
     "name": "stdout",
     "output_type": "stream",
     "text": [
      "Original:\n",
      "['This person has bags under eyes and wears lipstick, necklace, and earrings. She is smiling.', 'The woman has bags under eyes, mouth slightly open, arched eyebrows, blond hair, and high cheekbones. She wears earrings.', 'This woman wears heavy makeup. She has arched eyebrows. She is smiling, and young.', 'This person is attractive, and young and has bags under eyes, wavy hair, arched eyebrows, and mouth slightly open. ', 'She is wearing lipstick. She has blond hair, wavy hair, bags under eyes, and mouth slightly open. She is smiling, and attractive.']\n",
      "Augmented Text:\n",
      "['this person has bags under eyes yet lacks lipstick, lipstick, ridiculous hat. he is smiling.', 'young woman has pink about eyes, mouth a pink, arched eyebrows, blond hair, features high cheekbones. she produces robes.', 'this woman with hair embroidered. it has arched cheeks. she gazes smiling, and young.', 'the man is attractive, and young and dark amber under eyes, wavy hair, arched eyebrows, but face tinted pink.', 'she is blowing lipstick. she has blond hair, brown eyes, hair more weight, a mouth slightly round. she appears smiling, and attractive.']\n"
     ]
    }
   ],
   "source": [
    "aug = naw.ContextualWordEmbsAug(\n",
    "    model_path='bert-base-uncased', action=\"substitute\")\n",
    "augmented_text = aug.augment(text)\n",
    "print(\"Original:\")\n",
    "print(text)\n",
    "print(\"Augmented Text:\")\n",
    "print(augmented_text)"
   ]
  },
  {
   "cell_type": "code",
   "execution_count": 18,
   "metadata": {},
   "outputs": [
    {
     "name": "stdout",
     "output_type": "stream",
     "text": [
      "Original:\n",
      "['This person has bags under eyes and wears lipstick, necklace, and earrings. She is smiling.', 'The woman has bags under eyes, mouth slightly open, arched eyebrows, blond hair, and high cheekbones. She wears earrings.', 'This woman wears heavy makeup. She has arched eyebrows. She is smiling, and young.', 'This person is attractive, and young and has bags under eyes, wavy hair, arched eyebrows, and mouth slightly open. ', 'She is wearing lipstick. She has blond hair, wavy hair, bags under eyes, and mouth slightly open. She is smiling, and attractive.']\n",
      "Augmented Text:\n",
      "['this person has bags under snake eyes sunglasses and wears fake lipstick, turtle necklace, and pearl earrings. then she is smiling.', '... the woman has bags under eyes, her mouth slightly folded open, beautifully arched wavy eyebrows, blond auburn hair, breasts and very high cheekbones. she wears earrings.', '... this woman wears heavy hair makeup. she merely has slightly arched eyebrows. she therefore is not smiling, and young.', 'but this female person is attractive, and young and young has bags under blue eyes, wavy auburn hair, extremely arched eyebrows, and whose mouth slightly exposed open.', 'again she finally is seen wearing purple lipstick. lastly she has blond long hair, slightly wavy hair, bags down under eyes, and mouth slightly open. she then is smiling, and attractive.']\n"
     ]
    }
   ],
   "source": [
    "aug = naw.ContextualWordEmbsAug(\n",
    "    model_path='distilbert-base-uncased', action=\"insert\")\n",
    "augmented_text = aug.augment(text)\n",
    "print(\"Original:\")\n",
    "print(text)\n",
    "print(\"Augmented Text:\")\n",
    "print(augmented_text)"
   ]
  },
  {
   "cell_type": "code",
   "execution_count": 17,
   "metadata": {},
   "outputs": [
    {
     "data": {
      "application/vnd.jupyter.widget-view+json": {
       "model_id": "dee2eefeb48f41c1b4be42651391fd4d",
       "version_major": 2,
       "version_minor": 0
      },
      "text/plain": [
       "Downloading:   0%|          | 0.00/28.0 [00:00<?, ?B/s]"
      ]
     },
     "metadata": {},
     "output_type": "display_data"
    },
    {
     "data": {
      "application/vnd.jupyter.widget-view+json": {
       "model_id": "ca3b800afb874dfb8e64f1ed4cca230a",
       "version_major": 2,
       "version_minor": 0
      },
      "text/plain": [
       "Downloading:   0%|          | 0.00/483 [00:00<?, ?B/s]"
      ]
     },
     "metadata": {},
     "output_type": "display_data"
    },
    {
     "data": {
      "application/vnd.jupyter.widget-view+json": {
       "model_id": "982625ea9e2543ff913cbf14ea324da6",
       "version_major": 2,
       "version_minor": 0
      },
      "text/plain": [
       "Downloading:   0%|          | 0.00/226k [00:00<?, ?B/s]"
      ]
     },
     "metadata": {},
     "output_type": "display_data"
    },
    {
     "data": {
      "application/vnd.jupyter.widget-view+json": {
       "model_id": "4f5afe6ba47f42b6b444868184935004",
       "version_major": 2,
       "version_minor": 0
      },
      "text/plain": [
       "Downloading:   0%|          | 0.00/455k [00:00<?, ?B/s]"
      ]
     },
     "metadata": {},
     "output_type": "display_data"
    },
    {
     "data": {
      "application/vnd.jupyter.widget-view+json": {
       "model_id": "4865cb33d5314dcd84129a68d09b3fd1",
       "version_major": 2,
       "version_minor": 0
      },
      "text/plain": [
       "Downloading:   0%|          | 0.00/256M [00:00<?, ?B/s]"
      ]
     },
     "metadata": {},
     "output_type": "display_data"
    },
    {
     "name": "stdout",
     "output_type": "stream",
     "text": [
      "Original:\n",
      "['This person has bags under eyes and wears lipstick, necklace, and earrings. She is smiling.', 'The woman has bags under eyes, mouth slightly open, arched eyebrows, blond hair, and high cheekbones. She wears earrings.', 'This woman wears heavy makeup. She has arched eyebrows. She is smiling, and young.', 'This person is attractive, and young and has bags under eyes, wavy hair, arched eyebrows, and mouth slightly open. ', 'She is wearing lipstick. She has blond hair, wavy hair, bags under eyes, and mouth slightly open. She is smiling, and attractive.']\n",
      "Augmented Text:\n",
      "['this person wears eyelashes under eyes who wear lipstick, necklace, floral earrings. she is beautiful.', 'the woman displays straw shaped eyes, mouth slightly open, protruding eyebrows, blond hair, and pale forehead. she uses glasses.', 'this creature smells heavy makeup. silvia gets arched eyebrows. she looks smiling, forever young.', 'prehistoric lizard appeared attractive, appears young and has orange under thighs, red hair, arched ears, and mouth slightly open.', 'julie comes looking stockings. she had thick eyebrows, grey hair, bags under eyes, and mouth slightly open. clarissa is smiling, and attractive.']\n"
     ]
    }
   ],
   "source": [
    "aug = naw.ContextualWordEmbsAug(\n",
    "    model_path='distilbert-base-uncased', action=\"substitute\")\n",
    "augmented_text = aug.augment(text)\n",
    "print(\"Original:\")\n",
    "print(text)\n",
    "print(\"Augmented Text:\")\n",
    "print(augmented_text)"
   ]
  },
  {
   "cell_type": "code",
   "execution_count": 21,
   "metadata": {},
   "outputs": [
    {
     "name": "stdout",
     "output_type": "stream",
     "text": [
      "Original:\n",
      "This person has bags under eyes and wears lipstick, necklace, and earrings. She is smiling. The woman has bags under eyes, mouth slightly open, arched eyebrows, blond hair, and high cheekbones. She wears earrings. This woman wears heavy makeup. She has arched eyebrows. She is smiling, and young. This person is attractive, and young and has bags under eyes, wavy hair, arched eyebrows, and mouth slightly open. She is wearing lipstick. She has blond hair, wavy hair, bags under eyes, and mouth slightly open. She is smiling, and attractive.\n",
      "Augmented Text:\n",
      "This person has bags under eyes and wears lipstick, necklace, beads and earrings. She is smiling. The woman has small bags under eyes, mouth slightly open, arched eyebrows, blond hair hair, and high cheekbones. She wears earrings. This woman Also wears heavy makeup. She has arched eyebrows. She is smiling, and looking young. This person is attractive, fresh and also young and has bags under eyes, wavy hair, arched eyebrows, and mouth is slightly open. She She is wearing lipstick. She has blond hair, wavy hair, bags under eyes, and mouth slightly open. She is smiling, younger and attractive.\n"
     ]
    }
   ],
   "source": [
    "aug = naw.ContextualWordEmbsAug(\n",
    "    model_path='roberta-base', action=\"insert\")\n",
    "augmented_text = aug.augment(text)\n",
    "print(\"Original:\")\n",
    "print(text)\n",
    "print(\"Augmented Text:\")\n",
    "print(augmented_text)"
   ]
  },
  {
   "cell_type": "code",
   "execution_count": 22,
   "metadata": {},
   "outputs": [
    {
     "name": "stdout",
     "output_type": "stream",
     "text": [
      "Original:\n",
      "This person has bags under eyes and wears lipstick, necklace, and earrings. She is smiling. The woman has bags under eyes, mouth slightly open, arched eyebrows, blond hair, and high cheekbones. She wears earrings. This woman wears heavy makeup. She has arched eyebrows. She is smiling, and young. This person is attractive, and young and has bags under eyes, wavy hair, arched eyebrows, and mouth slightly open. She is wearing lipstick. She has blond hair, wavy hair, bags under eyes, and mouth slightly open. She is smiling, and attractive.\n",
      "Augmented Text:\n",
      "This person has bags under eyes and wears lipstick, necklace, and earrings. She is smiling. This woman has bags under eyes, mouth slightly open, arched lip, blond hair, and pierced cheekbones. She wears earrings. This women wears heavy makeup. She has arched eyebrows. She s attractive, and young. This female is attractive, and young and has bags under eyes, wavy hair, arched eyebrows, y mouth slightly open. She is wearing lipstick. She has blond hair, straight hair, bags under eyes, and mouth slightly open. She so smiling, and attractive.\n"
     ]
    }
   ],
   "source": [
    "aug = naw.ContextualWordEmbsAug(\n",
    "    model_path='roberta-base', action=\"substitute\")\n",
    "augmented_text = aug.augment(text)\n",
    "print(\"Original:\")\n",
    "print(text)\n",
    "print(\"Augmented Text:\")\n",
    "print(augmented_text)"
   ]
  },
  {
   "cell_type": "markdown",
   "metadata": {},
   "source": [
    "We evaluated the captions vocabulary-wise and decided to abstain from augmenting our captions with either substituted or inserted synonyms. The above models did not show significantly better performance in comparison from original captions. "
   ]
  },
  {
   "cell_type": "markdown",
   "metadata": {},
   "source": [
    "### Synonym Augmenter<a class=\"anchor\" id=\"synonym_aug\"></a>"
   ]
  },
  {
   "cell_type": "markdown",
   "metadata": {},
   "source": [
    "##### Substitute word by WordNet's synonym"
   ]
  },
  {
   "cell_type": "code",
   "execution_count": 23,
   "metadata": {},
   "outputs": [
    {
     "name": "stdout",
     "output_type": "stream",
     "text": [
      "Original:\n",
      "This person has bags under eyes and wears lipstick, necklace, and earrings. She is smiling. The woman has bags under eyes, mouth slightly open, arched eyebrows, blond hair, and high cheekbones. She wears earrings. This woman wears heavy makeup. She has arched eyebrows. She is smiling, and young. This person is attractive, and young and has bags under eyes, wavy hair, arched eyebrows, and mouth slightly open. She is wearing lipstick. She has blond hair, wavy hair, bags under eyes, and mouth slightly open. She is smiling, and attractive.\n",
      "Augmented Text:\n",
      "This person has bags under eyes and wears lipstick, necklace, and earrings. She is smiling. The woman has bags under eyes, mouth slightly open, arched brow, blond hair, and high cheekbones. She wears earrings. This woman wears enceinte makeup. She have arched eyebrows. She is smiling, and young. This person comprise attractive, and young and has bags under eyes, wavy hair, arched eyebrows, and mouth slightly open. She is tire lipstick. She feature blond hair, wavy haircloth, bags under eyes, and mouth slightly open. She be smiling, and attractive.\n"
     ]
    }
   ],
   "source": [
    "import nltk\n",
    "\n",
    "aug = naw.SynonymAug(aug_src='wordnet')\n",
    "augmented_text = aug.augment(text)\n",
    "print(\"Original:\")\n",
    "print(text)\n",
    "print(\"Augmented Text:\")\n",
    "print(augmented_text)"
   ]
  },
  {
   "cell_type": "markdown",
   "metadata": {},
   "source": [
    "### Antonym Augmenter<a class=\"anchor\" id=\"antonym_aug\"></a>"
   ]
  },
  {
   "cell_type": "markdown",
   "metadata": {},
   "source": [
    "##### Substitute word by antonym"
   ]
  },
  {
   "cell_type": "code",
   "execution_count": null,
   "metadata": {},
   "outputs": [],
   "source": [
    "aug = naw.AntonymAug(aug_min=1, aug_p=1)\n",
    "output_dict = dict()\n",
    "for key, value in text.items():\n",
    "    augmented_text = aug.augment(value)\n",
    "    output_dict[key] = augmented_text\n",
    "    output = open('antonym_caption.txt','w') #quickly check all the augmented captions\n",
    "    print(output_dict, file=output)"
   ]
  },
  {
   "cell_type": "code",
   "execution_count": 87,
   "metadata": {},
   "outputs": [],
   "source": [
    "aug = naw.AntonymAug(aug_min=1, aug_p=1)\n",
    "\n",
    "for key, value in text.items():\n",
    "    output_string = ''\n",
    "    for line in value:\n",
    "        augmented_text = aug.augment(line)\n",
    "        output_string += f'{augmented_text}\\n'\n",
    "    with open('/home/gusbuzvi@GU.GU.SE/aics/augmented_captions/' + key, 'w') as out: #save all the augmented captions\n",
    "        out.write(output_string)"
   ]
  },
  {
   "cell_type": "markdown",
   "metadata": {},
   "source": [
    "An example with captions augmented with antonyms. We changed the augmentation probability to 1, so all verbs, adverbs and adjectives would be changed to a word of opposite meaning. The antonyms are taken from WordNet. We assumed that the additional information on which features are lacking would make the data more varied because it is very rare that a dataset contains labels to what is not in the given picture."
   ]
  },
  {
   "cell_type": "code",
   "execution_count": 25,
   "metadata": {},
   "outputs": [
    {
     "name": "stdout",
     "output_type": "stream",
     "text": [
      "Original:\n",
      "This person has bags under eyes and wears lipstick, necklace, and earrings. She is smiling. The woman has bags under eyes, mouth slightly open, arched eyebrows, blond hair, and high cheekbones. She wears earrings. This woman wears heavy makeup. She has arched eyebrows. She is smiling, and young. This person is attractive, and young and has bags under eyes, wavy hair, arched eyebrows, and mouth slightly open. She is wearing lipstick. She has blond hair, wavy hair, bags under eyes, and mouth slightly open. She is smiling, and attractive.\n",
      "Augmented Text:\n",
      "This person has bags under eyes and wears lipstick, necklace, and earrings. She is smiling. The woman has bags under eyes, mouth slightly open, arched eyebrows, blond hair, and high cheekbones. She wears earrings. This woman refresh heavy makeup. She has arched eyebrows. She is smiling, and old. This person differ attractive, and old and has bags under eyes, wavy hair, arched eyebrows, and mouth slightly closed. She differ wearing lipstick. She lack blond hair, wavy hair, bags under eyes, and mouth slightly covert. She differ smiling, and unattractive.\n"
     ]
    }
   ],
   "source": [
    "aug = naw.AntonymAug(aug_p=1)\n",
    "augmented_text = aug.augment(text)\n",
    "print(\"Original:\")\n",
    "print(text)\n",
    "print(\"Augmented Text:\")\n",
    "print(augmented_text)"
   ]
  }
 ],
 "metadata": {
  "kernelspec": {
   "display_name": "Python 3 (ipykernel)",
   "language": "python",
   "name": "python3"
  },
  "language_info": {
   "codemirror_mode": {
    "name": "ipython",
    "version": 3
   },
   "file_extension": ".py",
   "mimetype": "text/x-python",
   "name": "python",
   "nbconvert_exporter": "python",
   "pygments_lexer": "ipython3",
   "version": "3.9.6"
  }
 },
 "nbformat": 4,
 "nbformat_minor": 2
}
